{
 "cells": [
  {
   "cell_type": "code",
   "execution_count": null,
   "metadata": {
    "collapsed": true
   },
   "outputs": [],
   "source": [
    "import numpy as np\n",
    "import pandas as pd"
   ]
  },
  {
   "cell_type": "code",
   "execution_count": null,
   "outputs": [],
   "source": [
    "raw = pd.read_csv('https://github.com/mattharrison/datasets/raw/master/data/alta-noaa-1980-2019.csv',\n",
    "                  parse_dates = ['DATE'])"
   ],
   "metadata": {
    "collapsed": false
   }
  },
  {
   "cell_type": "code",
   "execution_count": null,
   "outputs": [],
   "source": [
    "my_cols = ['STATION', 'NAME', 'LATITUDE', 'LONGITUDE', 'ELEVATION', 'DATE',\n",
    "           'PRCP', 'SNOW', 'SNWD', 'TMAX', 'TMIN', 'TOBS']\n",
    "\n",
    "# def tweak_alta(df):\n",
    "#     return (df\n",
    "#             .loc[:, ['STATION', 'NAME', 'LATITUDE', 'LONGITUDE', 'ELEVATION', 'DATE',\n",
    "#                      'PRCP', 'SNOW', 'SNWD', 'TMAX', 'TMIN', 'TOBS']]\n",
    "#             )\n",
    "\n",
    "(raw\n",
    " [my_cols]\n",
    " .groupby(pd.Grouper(key='DATE', freq='W'))\n",
    " .agg({'PRCP': 'sum', 'TMAX': 'max', 'TMIN': 'min', 'SNOW': 'sum', 'SNWD': 'mean'})\n",
    " .reset_index()\n",
    " .assign(LOCATION='Alta',\n",
    "         SEASON='Ski')\n",
    " .assign(LOCATION=lambda df_: df_.LOCATION.where(\n",
    "    df_.DATE.dt.year >= 2000\n",
    "    ,'Alta Ski Resort'),\n",
    "         T_RANGE=lambda df_: df_.TMAX - df_.TMIN,\n",
    "         SEASON=lambda df_:(df_\n",
    "                            .SEASON\n",
    "                            .where(\n",
    "             (df_.DATE.dt.month <= 4) | (df_.DATE.dt.month >= 11), 'Summer')\n",
    "                            .add(' ')\n",
    "                            .add(df_\n",
    "                                 .DATE.dt.year.astype(str)\n",
    "                                 .where(df_.DATE.dt.month > 4,\n",
    "                                        (df_.DATE.dt.year - 1).astype(str))))\n",
    "         )\n",
    " )"
   ],
   "metadata": {
    "collapsed": false
   }
  }
 ],
 "metadata": {
  "kernelspec": {
   "display_name": "Python 3",
   "language": "python",
   "name": "python3"
  },
  "language_info": {
   "codemirror_mode": {
    "name": "ipython",
    "version": 2
   },
   "file_extension": ".py",
   "mimetype": "text/x-python",
   "name": "python",
   "nbconvert_exporter": "python",
   "pygments_lexer": "ipython2",
   "version": "2.7.6"
  }
 },
 "nbformat": 4,
 "nbformat_minor": 0
}
